{
 "cells": [
  {
   "cell_type": "code",
   "execution_count": null,
   "metadata": {
    "collapsed": false
   },
   "outputs": [],
   "source": [
    "#Allows zooming of the plot\n",
    "%matplotlib inline\n",
    "import mpld3\n",
    "mpld3.enable_notebook()\n",
    "import matplotlib.pyplot as plt\n",
    "import numpy as np"
   ]
  },
  {
   "cell_type": "code",
   "execution_count": null,
   "metadata": {
    "collapsed": false
   },
   "outputs": [],
   "source": [
    "import pandas as pd\n",
    "df = pd.read_csv('data/data/driving_log.csv')\n",
    "from IPython.display import display, HTML\n",
    "display(df)"
   ]
  },
  {
   "cell_type": "code",
   "execution_count": null,
   "metadata": {
    "collapsed": false
   },
   "outputs": [],
   "source": [
    "import cv2\n",
    "import matplotlib.pyplot as plt\n",
    "import numpy as np\n",
    "\n",
    "test_img=cv2.imread('./data/data/IMG/center_2016_12_01_13_38_59_969.jpg')\n",
    "steer1=0\n",
    "test_img2=cv2.imread('./data/data/IMG/center_2016_12_01_13_42_08_706.jpg')\n",
    "steer2=-0.477509\n",
    "test_img3=cv2.imread('./data/data/IMG/center_2016_12_01_13_34_37_348.jpg')\n",
    "steer3=0.511\n",
    "\n",
    "print(test_img.shape)\n",
    "print(type(test_img2))\n",
    "print(type(test_img3))"
   ]
  },
  {
   "cell_type": "code",
   "execution_count": null,
   "metadata": {
    "collapsed": false
   },
   "outputs": [],
   "source": [
    "plt.imshow(test_img)\n",
    "plt.show()"
   ]
  },
  {
   "cell_type": "code",
   "execution_count": null,
   "metadata": {
    "collapsed": false
   },
   "outputs": [],
   "source": [
    "from data_gen import preprocess\n",
    "image=test_img\n",
    "proc_image_array = cv2.cvtColor(image, cv2.COLOR_BGR2RGB)\n",
    "crop_image_array = preprocess(proc_image_array,top_offset=0.25,bottom_offset=0.125)\n",
    "plt.imshow(crop_image_array)\n",
    "plt.show()"
   ]
  },
  {
   "cell_type": "code",
   "execution_count": null,
   "metadata": {
    "collapsed": false
   },
   "outputs": [],
   "source": [
    "expected_steer=df['steering']\n",
    "plt.plot(df['steering'])\n",
    "plt.show()"
   ]
  },
  {
   "cell_type": "code",
   "execution_count": null,
   "metadata": {
    "collapsed": false
   },
   "outputs": [],
   "source": [
    "(n, bins, patches)=plt.hist(abs(df['steering']),bins=25)\n",
    "plt.show()\n",
    "print(\"Mean = {:2f}\".format(np.mean(n)))\n",
    "n = np.sort(n)\n",
    "n[:] = n[::-1]\n",
    "print(\"Next large data=\",n[2])\n",
    "print(n)"
   ]
  },
  {
   "cell_type": "code",
   "execution_count": null,
   "metadata": {
    "collapsed": true
   },
   "outputs": [],
   "source": [
    "from data_gen import preprocess"
   ]
  },
  {
   "cell_type": "code",
   "execution_count": null,
   "metadata": {
    "collapsed": false
   },
   "outputs": [],
   "source": [
    "from keras.models import load_model\n",
    "model = load_model('model.h5')"
   ]
  },
  {
   "cell_type": "code",
   "execution_count": null,
   "metadata": {
    "collapsed": true
   },
   "outputs": [],
   "source": [
    "import cv2\n",
    "def predict_val(file,model):\n",
    "    image=cv2.imread(file)\n",
    "    proc_image_array = cv2.cvtColor(image, cv2.COLOR_BGR2RGB)\n",
    "    final_image_array = proc_image_array[None,:,:,:]\n",
    "    steering_angle = float(model.predict(final_image_array, batch_size=1))\n",
    "    return steering_angle"
   ]
  },
  {
   "cell_type": "code",
   "execution_count": null,
   "metadata": {
    "collapsed": false
   },
   "outputs": [],
   "source": [
    "num_samples = len(df['center'])\n",
    "#num_samples = 20\n",
    "steer_angles=[None]*num_samples\n",
    "for i in range(num_samples):\n",
    "    filename = './data/data/' + df['center'][i]\n",
    "    #print(filename)\n",
    "    steer_angle = predict_val(filename,model)\n",
    "    steer_angles[i]=steer_angle\n",
    "    #print(\"Steer Angle= \",steer_angle)"
   ]
  },
  {
   "cell_type": "code",
   "execution_count": null,
   "metadata": {
    "collapsed": false
   },
   "outputs": [],
   "source": [
    "filename='./data/data/' + df['center'][100]\n",
    "print(predict_val(filename,model))"
   ]
  },
  {
   "cell_type": "code",
   "execution_count": null,
   "metadata": {
    "collapsed": false
   },
   "outputs": [],
   "source": [
    "#plot expected and predicted steering angles\n",
    "plt.plot(df['steering'],color='red',label='Expected')\n",
    "plt.plot(steer_angles, color='blue',label='Predicted')\n",
    "plt.legend()\n",
    "plt.show()"
   ]
  },
  {
   "cell_type": "code",
   "execution_count": null,
   "metadata": {
    "collapsed": true
   },
   "outputs": [],
   "source": [
    "def visualize_random(model,num_categories=10):\n",
    "    \"\"\"Example to show how to visualize multiple filters via activation maximization.\n",
    "    Args:\n",
    "        num_categories: The number of random categories to visualize. (Default Value = 5)\n",
    "    \"\"\"\n",
    "    # The name of the layer we want to visualize\n",
    "    # (see model definition in vggnet.py)\n",
    "    layer_name = 'predictions'\n",
    "    layer_idx = [idx for idx, layer in enumerate(model.layers) if layer.name == layer_name][0]\n",
    "\n",
    "    # Visualize couple random categories from imagenet.\n",
    "    indices = 5 ###\n",
    "    images = [visualize_activation(model, layer_idx, filter_indices=idx,\n",
    "                                   text=\"\",\n",
    "                                   max_iter=500) for idx in indices]\n",
    "\n",
    "    # Easily stitch images via `utils.stitch_images`\n",
    "    plt.imshow('Random imagenet categories', utils.stitch_images(images))"
   ]
  },
  {
   "cell_type": "code",
   "execution_count": null,
   "metadata": {
    "collapsed": true
   },
   "outputs": [],
   "source": []
  }
 ],
 "metadata": {
  "kernelspec": {
   "display_name": "Python 3",
   "language": "python",
   "name": "python3"
  },
  "language_info": {
   "codemirror_mode": {
    "name": "ipython",
    "version": 3
   },
   "file_extension": ".py",
   "mimetype": "text/x-python",
   "name": "python",
   "nbconvert_exporter": "python",
   "pygments_lexer": "ipython3",
   "version": "3.5.2"
  },
  "widgets": {
   "state": {},
   "version": "1.1.2"
  }
 },
 "nbformat": 4,
 "nbformat_minor": 2
}
